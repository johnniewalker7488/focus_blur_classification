{
 "cells": [
  {
   "cell_type": "code",
   "execution_count": 1,
   "metadata": {},
   "outputs": [],
   "source": [
    "import numpy as np\n",
    "import pandas as pd\n",
    "import matplotlib.pyplot as plt\n",
    "from sklearn.model_selection import train_test_split\n",
    "from collections import Counter\n",
    "import os\n",
    "import shutil\n",
    "%matplotlib inline\n",
    "\n",
    "import warnings\n",
    "warnings.filterwarnings(\"ignore\")"
   ]
  },
  {
   "cell_type": "code",
   "execution_count": 2,
   "metadata": {},
   "outputs": [],
   "source": [
    "data_dir = '../../datasets/FocusPath_Full/'"
   ]
  },
  {
   "cell_type": "code",
   "execution_count": 3,
   "metadata": {},
   "outputs": [],
   "source": [
    "df = pd.read_csv(os.path.join(data_dir, 'DatabaseInfo.csv'))\n",
    "df['Subjective Score'] = np.abs(df['Subjective Score'])"
   ]
  },
  {
   "cell_type": "code",
   "execution_count": 4,
   "metadata": {},
   "outputs": [],
   "source": [
    "df['target'] = (df['Subjective Score'] <= 2).astype('int')"
   ]
  },
  {
   "cell_type": "code",
   "execution_count": 5,
   "metadata": {},
   "outputs": [],
   "source": [
    "df['Name'] = df['Name'].str.replace('.tif', '.png')"
   ]
  },
  {
   "cell_type": "code",
   "execution_count": 6,
   "metadata": {},
   "outputs": [
    {
     "data": {
      "text/html": [
       "<div>\n",
       "<style scoped>\n",
       "    .dataframe tbody tr th:only-of-type {\n",
       "        vertical-align: middle;\n",
       "    }\n",
       "\n",
       "    .dataframe tbody tr th {\n",
       "        vertical-align: top;\n",
       "    }\n",
       "\n",
       "    .dataframe thead th {\n",
       "        text-align: right;\n",
       "    }\n",
       "</style>\n",
       "<table border=\"1\" class=\"dataframe\">\n",
       "  <thead>\n",
       "    <tr style=\"text-align: right;\">\n",
       "      <th></th>\n",
       "      <th>Name</th>\n",
       "      <th>Slide #</th>\n",
       "      <th>Strip #</th>\n",
       "      <th>Slice #</th>\n",
       "      <th>Position #</th>\n",
       "      <th>Objective Score</th>\n",
       "      <th>Subjective Score</th>\n",
       "      <th>target</th>\n",
       "    </tr>\n",
       "  </thead>\n",
       "  <tbody>\n",
       "    <tr>\n",
       "      <th>0</th>\n",
       "      <td>Slide01_Strip00_Slice01_Position01.png</td>\n",
       "      <td>1</td>\n",
       "      <td>0</td>\n",
       "      <td>1</td>\n",
       "      <td>1</td>\n",
       "      <td>90,4084915785</td>\n",
       "      <td>8</td>\n",
       "      <td>0</td>\n",
       "    </tr>\n",
       "    <tr>\n",
       "      <th>1</th>\n",
       "      <td>Slide01_Strip00_Slice01_Position02.png</td>\n",
       "      <td>1</td>\n",
       "      <td>0</td>\n",
       "      <td>1</td>\n",
       "      <td>2</td>\n",
       "      <td>87,9868772072</td>\n",
       "      <td>7</td>\n",
       "      <td>0</td>\n",
       "    </tr>\n",
       "    <tr>\n",
       "      <th>2</th>\n",
       "      <td>Slide01_Strip00_Slice01_Position03.png</td>\n",
       "      <td>1</td>\n",
       "      <td>0</td>\n",
       "      <td>1</td>\n",
       "      <td>3</td>\n",
       "      <td>88,6678839704</td>\n",
       "      <td>7</td>\n",
       "      <td>0</td>\n",
       "    </tr>\n",
       "    <tr>\n",
       "      <th>3</th>\n",
       "      <td>Slide01_Strip00_Slice01_Position04.png</td>\n",
       "      <td>1</td>\n",
       "      <td>0</td>\n",
       "      <td>1</td>\n",
       "      <td>4</td>\n",
       "      <td>92,7488673749</td>\n",
       "      <td>7</td>\n",
       "      <td>0</td>\n",
       "    </tr>\n",
       "    <tr>\n",
       "      <th>4</th>\n",
       "      <td>Slide01_Strip00_Slice01_Position05.png</td>\n",
       "      <td>1</td>\n",
       "      <td>0</td>\n",
       "      <td>1</td>\n",
       "      <td>5</td>\n",
       "      <td>91,5582195015</td>\n",
       "      <td>8</td>\n",
       "      <td>0</td>\n",
       "    </tr>\n",
       "  </tbody>\n",
       "</table>\n",
       "</div>"
      ],
      "text/plain": [
       "                                     Name  Slide #  Strip #  Slice #  \\\n",
       "0  Slide01_Strip00_Slice01_Position01.png        1        0        1   \n",
       "1  Slide01_Strip00_Slice01_Position02.png        1        0        1   \n",
       "2  Slide01_Strip00_Slice01_Position03.png        1        0        1   \n",
       "3  Slide01_Strip00_Slice01_Position04.png        1        0        1   \n",
       "4  Slide01_Strip00_Slice01_Position05.png        1        0        1   \n",
       "\n",
       "   Position # Objective Score  Subjective Score  target  \n",
       "0           1   90,4084915785                 8       0  \n",
       "1           2   87,9868772072                 7       0  \n",
       "2           3   88,6678839704                 7       0  \n",
       "3           4   92,7488673749                 7       0  \n",
       "4           5   91,5582195015                 8       0  "
      ]
     },
     "execution_count": 6,
     "metadata": {},
     "output_type": "execute_result"
    }
   ],
   "source": [
    "df.head()"
   ]
  },
  {
   "cell_type": "code",
   "execution_count": 7,
   "metadata": {},
   "outputs": [
    {
     "data": {
      "image/png": "[encoded data removed]",
      "text/plain": [
       "<Figure size 432x288 with 1 Axes>"
      ]
     },
     "metadata": {
      "needs_background": "light"
     },
     "output_type": "display_data"
    }
   ],
   "source": [
    "df.hist('target');"
   ]
  },
  {
   "cell_type": "code",
   "execution_count": 8,
   "metadata": {},
   "outputs": [],
   "source": [
    "X1, y1 = df.drop('target', axis=1), df['target']"
   ]
  },
  {
   "cell_type": "code",
   "execution_count": 9,
   "metadata": {},
   "outputs": [],
   "source": [
    "X_train, X_test, y_train, y_test = train_test_split(X1, y1, test_size=0.2, stratify=y1)"
   ]
  },
  {
   "cell_type": "code",
   "execution_count": 10,
   "metadata": {},
   "outputs": [],
   "source": [
    "X_train['target'] = y_train\n",
    "X_test['target'] = y_test"
   ]
  },
  {
   "cell_type": "code",
   "execution_count": 11,
   "metadata": {},
   "outputs": [],
   "source": [
    "focus_test = X_test[X_test['target'] == 1]['Name'].to_numpy().flatten()\n",
    "unfocus_test = X_test[X_test['target'] == 0]['Name'].to_numpy().flatten()"
   ]
  },
  {
   "cell_type": "code",
   "execution_count": 12,
   "metadata": {},
   "outputs": [],
   "source": [
    "X2, y2 = X_train.drop('target', axis=1), X_train['target']\n",
    "X_train, X_test, y_train, y_test = train_test_split(X2, y2, test_size=0.25, stratify=y2)\n",
    "X_train['target'] = y_train\n",
    "X_test['target'] = y_test"
   ]
  },
  {
   "cell_type": "code",
   "execution_count": 13,
   "metadata": {},
   "outputs": [],
   "source": [
    "focus_train = X_train[X_train['target'] == 1]['Name'].to_numpy().flatten()\n",
    "unfocus_train = X_train[X_train['target'] == 0]['Name'].to_numpy().flatten()\n",
    "focus_val = X_test[X_test['target'] == 1]['Name'].to_numpy().flatten()\n",
    "unfocus_val = X_test[X_test['target'] == 0]['Name'].to_numpy().flatten()"
   ]
  },
  {
   "cell_type": "code",
   "execution_count": 14,
   "metadata": {},
   "outputs": [
    {
     "name": "stdout",
     "output_type": "stream",
     "text": [
      "focus_train: 1619\n",
      "unfocus_train: 3565\n",
      "focus_val: 540\n",
      "unfocus_val: 1188\n",
      "focus_test: 540\n",
      "unfocus_test: 1188\n"
     ]
    }
   ],
   "source": [
    "print('focus_train:', len(focus_train))\n",
    "print('unfocus_train:', len(unfocus_train))\n",
    "print('focus_val:', len(focus_val))\n",
    "print('unfocus_val:', len(unfocus_val))\n",
    "print('focus_test:', len(focus_test))\n",
    "print('unfocus_test:', len(unfocus_test))"
   ]
  },
  {
   "cell_type": "code",
   "execution_count": 15,
   "metadata": {},
   "outputs": [],
   "source": [
    "train_dir = os.path.join(data_dir, 'train')\n",
    "val_dir = os.path.join(data_dir, 'val')\n",
    "test_dir = os.path.join(data_dir, 'test')"
   ]
  },
  {
   "cell_type": "code",
   "execution_count": 16,
   "metadata": {},
   "outputs": [],
   "source": [
    "os.mkdir(train_dir)\n",
    "os.mkdir(val_dir)\n",
    "os.mkdir(test_dir)"
   ]
  },
  {
   "cell_type": "code",
   "execution_count": 17,
   "metadata": {},
   "outputs": [],
   "source": [
    "os.mkdir(os.path.join(train_dir, '1'))\n",
    "os.mkdir(os.path.join(train_dir, '0'))\n",
    "os.mkdir(os.path.join(val_dir, '1'))\n",
    "os.mkdir(os.path.join(val_dir, '0'))\n",
    "os.mkdir(os.path.join(test_dir, '1'))\n",
    "os.mkdir(os.path.join(test_dir, '0'))"
   ]
  },
  {
   "cell_type": "code",
   "execution_count": 18,
   "metadata": {},
   "outputs": [
    {
     "data": {
      "text/plain": [
       "8640"
      ]
     },
     "execution_count": 18,
     "metadata": {},
     "output_type": "execute_result"
    }
   ],
   "source": [
    "original_data = '../../datasets/FocusPath_Full/FocusPath_full/'\n",
    "len(os.listdir(original_data))"
   ]
  },
  {
   "cell_type": "code",
   "execution_count": 19,
   "metadata": {},
   "outputs": [
    {
     "name": "stdout",
     "output_type": "stream",
     "text": [
      "0 images moved from ../../datasets/FocusPath_Full/FocusPath_full/Slide09_Strip00_Slice06_Position24.png to ../../datasets/FocusPath_Full/train/1\n",
      "100 images moved from ../../datasets/FocusPath_Full/FocusPath_full/Slide05_Strip01_Slice10_Position06.png to ../../datasets/FocusPath_Full/train/1\n",
      "200 images moved from ../../datasets/FocusPath_Full/FocusPath_full/Slide04_Strip01_Slice06_Position03.png to ../../datasets/FocusPath_Full/train/1\n",
      "300 images moved from ../../datasets/FocusPath_Full/FocusPath_full/Slide09_Strip00_Slice07_Position21.png to ../../datasets/FocusPath_Full/train/1\n",
      "400 images moved from ../../datasets/FocusPath_Full/FocusPath_full/Slide04_Strip00_Slice09_Position06.png to ../../datasets/FocusPath_Full/train/1\n",
      "500 images moved from ../../datasets/FocusPath_Full/FocusPath_full/Slide03_Strip01_Slice07_Position06.png to ../../datasets/FocusPath_Full/train/1\n",
      "600 images moved from ../../datasets/FocusPath_Full/FocusPath_full/Slide08_Strip01_Slice07_Position20.png to ../../datasets/FocusPath_Full/train/1\n",
      "700 images moved from ../../datasets/FocusPath_Full/FocusPath_full/Slide08_Strip01_Slice09_Position13.png to ../../datasets/FocusPath_Full/train/1\n",
      "800 images moved from ../../datasets/FocusPath_Full/FocusPath_full/Slide04_Strip00_Slice10_Position30.png to ../../datasets/FocusPath_Full/train/1\n",
      "900 images moved from ../../datasets/FocusPath_Full/FocusPath_full/Slide03_Strip01_Slice06_Position09.png to ../../datasets/FocusPath_Full/train/1\n",
      "1000 images moved from ../../datasets/FocusPath_Full/FocusPath_full/Slide09_Strip00_Slice09_Position16.png to ../../datasets/FocusPath_Full/train/1\n",
      "1100 images moved from ../../datasets/FocusPath_Full/FocusPath_full/Slide08_Strip01_Slice04_Position22.png to ../../datasets/FocusPath_Full/train/1\n",
      "1200 images moved from ../../datasets/FocusPath_Full/FocusPath_full/Slide08_Strip01_Slice11_Position09.png to ../../datasets/FocusPath_Full/train/1\n",
      "1300 images moved from ../../datasets/FocusPath_Full/FocusPath_full/Slide05_Strip00_Slice11_Position10.png to ../../datasets/FocusPath_Full/train/1\n",
      "1400 images moved from ../../datasets/FocusPath_Full/FocusPath_full/Slide04_Strip01_Slice05_Position06.png to ../../datasets/FocusPath_Full/train/1\n",
      "1500 images moved from ../../datasets/FocusPath_Full/FocusPath_full/Slide06_Strip01_Slice05_Position15.png to ../../datasets/FocusPath_Full/train/1\n",
      "1600 images moved from ../../datasets/FocusPath_Full/FocusPath_full/Slide07_Strip00_Slice08_Position04.png to ../../datasets/FocusPath_Full/train/1\n",
      "1619 images moved from ../../datasets/FocusPath_Full/FocusPath_full/Slide02_Strip01_Slice12_Position18.png to ../../datasets/FocusPath_Full/train/1\n"
     ]
    }
   ],
   "source": [
    "for idx, img in enumerate(focus_train):\n",
    "    src = os.path.join(original_data, img)\n",
    "    dst = os.path.join(train_dir, '1')\n",
    "    shutil.move(src, dst)\n",
    "    if idx % 100 == 0:\n",
    "        print(f'{idx} images moved from {src} to {dst}')\n",
    "print(f'{len(focus_train)} images moved from {src} to {dst}')"
   ]
  },
  {
   "cell_type": "code",
   "execution_count": 20,
   "metadata": {},
   "outputs": [
    {
     "name": "stdout",
     "output_type": "stream",
     "text": [
      "0 images moved from ../../datasets/FocusPath_Full/FocusPath_full/Slide01_Strip01_Slice14_Position27.png to ../../datasets/FocusPath_Full/train/0\n",
      "500 images moved from ../../datasets/FocusPath_Full/FocusPath_full/Slide08_Strip00_Slice16_Position23.png to ../../datasets/FocusPath_Full/train/0\n",
      "1000 images moved from ../../datasets/FocusPath_Full/FocusPath_full/Slide04_Strip01_Slice15_Position23.png to ../../datasets/FocusPath_Full/train/0\n",
      "1500 images moved from ../../datasets/FocusPath_Full/FocusPath_full/Slide07_Strip00_Slice04_Position10.png to ../../datasets/FocusPath_Full/train/0\n",
      "2000 images moved from ../../datasets/FocusPath_Full/FocusPath_full/Slide01_Strip00_Slice05_Position14.png to ../../datasets/FocusPath_Full/train/0\n",
      "2500 images moved from ../../datasets/FocusPath_Full/FocusPath_full/Slide04_Strip01_Slice05_Position01.png to ../../datasets/FocusPath_Full/train/0\n",
      "3000 images moved from ../../datasets/FocusPath_Full/FocusPath_full/Slide08_Strip00_Slice13_Position11.png to ../../datasets/FocusPath_Full/train/0\n",
      "3500 images moved from ../../datasets/FocusPath_Full/FocusPath_full/Slide02_Strip00_Slice15_Position24.png to ../../datasets/FocusPath_Full/train/0\n",
      "3565 images moved from ../../datasets/FocusPath_Full/FocusPath_full/Slide06_Strip01_Slice04_Position08.png to ../../datasets/FocusPath_Full/train/0\n"
     ]
    }
   ],
   "source": [
    "for idx, img in enumerate(unfocus_train):\n",
    "    src = os.path.join(original_data, img)\n",
    "    dst = os.path.join(train_dir, '0')\n",
    "    shutil.move(src, dst)\n",
    "    if idx % 500 == 0:\n",
    "        print(f'{idx} images moved from {src} to {dst}')\n",
    "print(f'{len(unfocus_train)} images moved from {src} to {dst}')"
   ]
  },
  {
   "cell_type": "code",
   "execution_count": 21,
   "metadata": {},
   "outputs": [
    {
     "name": "stdout",
     "output_type": "stream",
     "text": [
      "0 images moved from ../../datasets/FocusPath_Full/FocusPath_full/Slide06_Strip01_Slice10_Position09.png to ../../datasets/FocusPath_Full/val/1\n",
      "100 images moved from ../../datasets/FocusPath_Full/FocusPath_full/Slide01_Strip00_Slice07_Position24.png to ../../datasets/FocusPath_Full/val/1\n",
      "200 images moved from ../../datasets/FocusPath_Full/FocusPath_full/Slide02_Strip01_Slice13_Position21.png to ../../datasets/FocusPath_Full/val/1\n",
      "300 images moved from ../../datasets/FocusPath_Full/FocusPath_full/Slide02_Strip01_Slice09_Position30.png to ../../datasets/FocusPath_Full/val/1\n",
      "400 images moved from ../../datasets/FocusPath_Full/FocusPath_full/Slide04_Strip01_Slice08_Position16.png to ../../datasets/FocusPath_Full/val/1\n",
      "500 images moved from ../../datasets/FocusPath_Full/FocusPath_full/Slide05_Strip01_Slice07_Position20.png to ../../datasets/FocusPath_Full/val/1\n",
      "540 images moved from ../../datasets/FocusPath_Full/FocusPath_full/Slide05_Strip01_Slice08_Position23.png to ../../datasets/FocusPath_Full/val/1\n"
     ]
    }
   ],
   "source": [
    "for idx, img in enumerate(focus_val):\n",
    "    src = os.path.join(original_data, img)\n",
    "    dst = os.path.join(val_dir, '1')\n",
    "    shutil.move(src, dst)\n",
    "    if idx % 100 == 0:\n",
    "        print(f'{idx} images moved from {src} to {dst}')\n",
    "print(f'{len(focus_val)} images moved from {src} to {dst}')"
   ]
  },
  {
   "cell_type": "code",
   "execution_count": 22,
   "metadata": {},
   "outputs": [
    {
     "name": "stdout",
     "output_type": "stream",
     "text": [
      "0 images moved from ../../datasets/FocusPath_Full/FocusPath_full/Slide07_Strip01_Slice14_Position06.png to ../../datasets/FocusPath_Full/val/0\n",
      "100 images moved from ../../datasets/FocusPath_Full/FocusPath_full/Slide06_Strip00_Slice13_Position21.png to ../../datasets/FocusPath_Full/val/0\n",
      "200 images moved from ../../datasets/FocusPath_Full/FocusPath_full/Slide07_Strip01_Slice02_Position18.png to ../../datasets/FocusPath_Full/val/0\n",
      "300 images moved from ../../datasets/FocusPath_Full/FocusPath_full/Slide01_Strip01_Slice04_Position21.png to ../../datasets/FocusPath_Full/val/0\n",
      "400 images moved from ../../datasets/FocusPath_Full/FocusPath_full/Slide05_Strip01_Slice13_Position08.png to ../../datasets/FocusPath_Full/val/0\n",
      "500 images moved from ../../datasets/FocusPath_Full/FocusPath_full/Slide07_Strip00_Slice16_Position17.png to ../../datasets/FocusPath_Full/val/0\n",
      "600 images moved from ../../datasets/FocusPath_Full/FocusPath_full/Slide07_Strip01_Slice01_Position11.png to ../../datasets/FocusPath_Full/val/0\n",
      "700 images moved from ../../datasets/FocusPath_Full/FocusPath_full/Slide08_Strip00_Slice14_Position26.png to ../../datasets/FocusPath_Full/val/0\n",
      "800 images moved from ../../datasets/FocusPath_Full/FocusPath_full/Slide03_Strip00_Slice05_Position20.png to ../../datasets/FocusPath_Full/val/0\n",
      "900 images moved from ../../datasets/FocusPath_Full/FocusPath_full/Slide02_Strip01_Slice15_Position06.png to ../../datasets/FocusPath_Full/val/0\n",
      "1000 images moved from ../../datasets/FocusPath_Full/FocusPath_full/Slide08_Strip00_Slice12_Position27.png to ../../datasets/FocusPath_Full/val/0\n",
      "1100 images moved from ../../datasets/FocusPath_Full/FocusPath_full/Slide08_Strip00_Slice14_Position20.png to ../../datasets/FocusPath_Full/val/0\n",
      "1188 images moved from ../../datasets/FocusPath_Full/FocusPath_full/Slide08_Strip01_Slice05_Position01.png to ../../datasets/FocusPath_Full/val/0\n"
     ]
    }
   ],
   "source": [
    "for idx, img in enumerate(unfocus_val):\n",
    "    src = os.path.join(original_data, img)\n",
    "    dst = os.path.join(val_dir, '0')\n",
    "    shutil.move(src, dst)\n",
    "    if idx % 100 == 0:\n",
    "        print(f'{idx} images moved from {src} to {dst}')\n",
    "print(f'{len(unfocus_val)} images moved from {src} to {dst}')"
   ]
  },
  {
   "cell_type": "code",
   "execution_count": 23,
   "metadata": {},
   "outputs": [
    {
     "name": "stdout",
     "output_type": "stream",
     "text": [
      "0 images moved from ../../datasets/FocusPath_Full/FocusPath_full/Slide07_Strip01_Slice07_Position16.png to ../../datasets/FocusPath_Full/test/1\n",
      "100 images moved from ../../datasets/FocusPath_Full/FocusPath_full/Slide02_Strip00_Slice11_Position01.png to ../../datasets/FocusPath_Full/test/1\n",
      "200 images moved from ../../datasets/FocusPath_Full/FocusPath_full/Slide04_Strip01_Slice04_Position09.png to ../../datasets/FocusPath_Full/test/1\n",
      "300 images moved from ../../datasets/FocusPath_Full/FocusPath_full/Slide08_Strip00_Slice06_Position26.png to ../../datasets/FocusPath_Full/test/1\n",
      "400 images moved from ../../datasets/FocusPath_Full/FocusPath_full/Slide07_Strip01_Slice06_Position14.png to ../../datasets/FocusPath_Full/test/1\n",
      "500 images moved from ../../datasets/FocusPath_Full/FocusPath_full/Slide03_Strip01_Slice05_Position07.png to ../../datasets/FocusPath_Full/test/1\n",
      "540 images moved from ../../datasets/FocusPath_Full/FocusPath_full/Slide07_Strip01_Slice10_Position23.png to ../../datasets/FocusPath_Full/test/1\n"
     ]
    }
   ],
   "source": [
    "for idx, img in enumerate(focus_test):\n",
    "    src = os.path.join(original_data, img)\n",
    "    dst = os.path.join(test_dir, '1')\n",
    "    shutil.move(src, dst)\n",
    "    if idx % 100 == 0:\n",
    "        print(f'{idx} images moved from {src} to {dst}')\n",
    "print(f'{len(focus_test)} images moved from {src} to {dst}')"
   ]
  },
  {
   "cell_type": "code",
   "execution_count": 24,
   "metadata": {},
   "outputs": [
    {
     "name": "stdout",
     "output_type": "stream",
     "text": [
      "0 images moved from ../../datasets/FocusPath_Full/FocusPath_full/Slide03_Strip01_Slice09_Position03.png to ../../datasets/FocusPath_Full/test/0\n",
      "100 images moved from ../../datasets/FocusPath_Full/FocusPath_full/Slide03_Strip00_Slice02_Position14.png to ../../datasets/FocusPath_Full/test/0\n",
      "200 images moved from ../../datasets/FocusPath_Full/FocusPath_full/Slide08_Strip00_Slice16_Position22.png to ../../datasets/FocusPath_Full/test/0\n",
      "300 images moved from ../../datasets/FocusPath_Full/FocusPath_full/Slide03_Strip00_Slice01_Position27.png to ../../datasets/FocusPath_Full/test/0\n",
      "400 images moved from ../../datasets/FocusPath_Full/FocusPath_full/Slide03_Strip00_Slice04_Position05.png to ../../datasets/FocusPath_Full/test/0\n",
      "500 images moved from ../../datasets/FocusPath_Full/FocusPath_full/Slide06_Strip00_Slice04_Position29.png to ../../datasets/FocusPath_Full/test/0\n",
      "600 images moved from ../../datasets/FocusPath_Full/FocusPath_full/Slide05_Strip01_Slice01_Position23.png to ../../datasets/FocusPath_Full/test/0\n",
      "700 images moved from ../../datasets/FocusPath_Full/FocusPath_full/Slide08_Strip01_Slice13_Position07.png to ../../datasets/FocusPath_Full/test/0\n",
      "800 images moved from ../../datasets/FocusPath_Full/FocusPath_full/Slide06_Strip01_Slice01_Position14.png to ../../datasets/FocusPath_Full/test/0\n",
      "900 images moved from ../../datasets/FocusPath_Full/FocusPath_full/Slide04_Strip01_Slice15_Position11.png to ../../datasets/FocusPath_Full/test/0\n",
      "1000 images moved from ../../datasets/FocusPath_Full/FocusPath_full/Slide04_Strip01_Slice01_Position26.png to ../../datasets/FocusPath_Full/test/0\n",
      "1100 images moved from ../../datasets/FocusPath_Full/FocusPath_full/Slide03_Strip01_Slice10_Position25.png to ../../datasets/FocusPath_Full/test/0\n",
      "1188 images moved from ../../datasets/FocusPath_Full/FocusPath_full/Slide05_Strip00_Slice14_Position11.png to ../../datasets/FocusPath_Full/test/0\n"
     ]
    }
   ],
   "source": [
    "for idx, img in enumerate(unfocus_test):\n",
    "    src = os.path.join(original_data, img)\n",
    "    dst = os.path.join(test_dir, '0')\n",
    "    shutil.move(src, dst)\n",
    "    if idx % 100 == 0:\n",
    "        print(f'{idx} images moved from {src} to {dst}')\n",
    "print(f'{len(unfocus_test)} images moved from {src} to {dst}')"
   ]
  }
 ],
 "metadata": {
  "kernelspec": {
   "display_name": "Python 3",
   "language": "python",
   "name": "python3"
  },
  "language_info": {
   "codemirror_mode": {
    "name": "ipython",
    "version": 3
   },
   "file_extension": ".py",
   "mimetype": "text/x-python",
   "name": "python",
   "nbconvert_exporter": "python",
   "pygments_lexer": "ipython3",
   "version": "3.8.5"
  }
 },
 "nbformat": 4,
 "nbformat_minor": 4
}
